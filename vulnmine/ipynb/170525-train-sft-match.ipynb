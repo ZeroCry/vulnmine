{
 "cells": [
  {
   "cell_type": "markdown",
   "metadata": {},
   "source": [
    "# Train software matching algorithm\n",
    "\n",
    "This is the follow-on from the previous notebook \"Train vendor matching algorithm\".\n",
    "\n",
    "The training proceeds in a similar manner:\n",
    "\n",
    "* First the algorithm is tuned for typical data by using a grid search.\n",
    "* Next the ML classifier is run on the training data using the optimum parameters.\n",
    "* Finally the trained model is stored for future use."
   ]
  },
  {
   "cell_type": "markdown",
   "metadata": {},
   "source": [
    "## Read in the software training data\n",
    "\n",
    "Read in the manually labelled software training data.\n",
    "\n",
    "Format it and convert to two numpy arrays for input to the scikit-learn ML algorithm."
   ]
  },
  {
   "cell_type": "code",
   "execution_count": 1,
   "metadata": {},
   "outputs": [
    {
     "data": {
      "text/plain": [
       "(22262, 18)"
      ]
     },
     "execution_count": 1,
     "metadata": {},
     "output_type": "execute_result"
    }
   ],
   "source": [
    "# Initialize\n",
    "\n",
    "import pandas as pd\n",
    "import numpy as np\n",
    "\n",
    "try:\n",
    "    df_label_software = pd.io.parsers.read_csv(\n",
    "                            \"/home/jovyan/work/shared/data/csv/label_software.csv\",\n",
    "                            error_bad_lines=False,\n",
    "                            warn_bad_lines=True,\n",
    "                            quotechar='\"',\n",
    "                            encoding='utf-8')\n",
    "except IOError as e:\n",
    "    print('\\n\\n***I/O error({0}): {1}\\n\\n'.format(\n",
    "                e.errno, e.strerror))\n",
    "\n",
    "# except ValueError:\n",
    "#    self.logger.critical('Could not convert data to an integer.')\n",
    "except:\n",
    "    print(\n",
    "        '\\n\\n***Unexpected error: {0}\\n\\n'.format(\n",
    "            sys.exc_info()[0]))\n",
    "    raise\n",
    "\n",
    "# Number of records / columns\n",
    "\n",
    "df_label_software.shape"
   ]
  },
  {
   "cell_type": "code",
   "execution_count": 2,
   "metadata": {},
   "outputs": [
    {
     "data": {
      "text/html": [
       "<div>\n",
       "<table border=\"1\" class=\"dataframe\">\n",
       "  <thead>\n",
       "    <tr style=\"text-align: right;\">\n",
       "      <th></th>\n",
       "      <th>Unnamed: 0</th>\n",
       "      <th>vendor_X</th>\n",
       "      <th>software_X</th>\n",
       "      <th>title_X</th>\n",
       "      <th>DisplayName0</th>\n",
       "      <th>release_X</th>\n",
       "      <th>Version0</th>\n",
       "      <th>fz_ratio</th>\n",
       "      <th>fz_ptl_ratio</th>\n",
       "      <th>fz_tok_set_ratio</th>\n",
       "      <th>fz_ptl_tok_sort_ratio</th>\n",
       "      <th>fz_uwratio</th>\n",
       "      <th>fz_rel_ratio</th>\n",
       "      <th>fz_rel_ptl_ratio</th>\n",
       "      <th>t_cve_name</th>\n",
       "      <th>titlX_len</th>\n",
       "      <th>DsplyNm0_len</th>\n",
       "      <th>match</th>\n",
       "    </tr>\n",
       "  </thead>\n",
       "  <tbody>\n",
       "    <tr>\n",
       "      <th>16816</th>\n",
       "      <td>17410</td>\n",
       "      <td>google</td>\n",
       "      <td>chrome</td>\n",
       "      <td>Google Chrome 18.0.1025.136</td>\n",
       "      <td>谷歌拼音输入法 3.0</td>\n",
       "      <td>18.0.1025.136</td>\n",
       "      <td>-</td>\n",
       "      <td>18</td>\n",
       "      <td>27</td>\n",
       "      <td>100</td>\n",
       "      <td>26</td>\n",
       "      <td>85</td>\n",
       "      <td>0</td>\n",
       "      <td>0</td>\n",
       "      <td>cpe:/a:google:chrome:18.0.1025.136</td>\n",
       "      <td>27</td>\n",
       "      <td>11</td>\n",
       "      <td>0</td>\n",
       "    </tr>\n",
       "    <tr>\n",
       "      <th>178</th>\n",
       "      <td>178</td>\n",
       "      <td>adobe</td>\n",
       "      <td>acrobat</td>\n",
       "      <td>Adobe Acrobat 3.1</td>\n",
       "      <td>Adobe Acrobat 8.3.1 - CPSID_83708</td>\n",
       "      <td>3.1</td>\n",
       "      <td>-</td>\n",
       "      <td>62</td>\n",
       "      <td>84</td>\n",
       "      <td>100</td>\n",
       "      <td>61</td>\n",
       "      <td>85</td>\n",
       "      <td>0</td>\n",
       "      <td>0</td>\n",
       "      <td>cpe:/a:adobe:acrobat:3.1</td>\n",
       "      <td>17</td>\n",
       "      <td>33</td>\n",
       "      <td>0</td>\n",
       "    </tr>\n",
       "    <tr>\n",
       "      <th>3286</th>\n",
       "      <td>3547</td>\n",
       "      <td>adobe</td>\n",
       "      <td>acrobat_reader</td>\n",
       "      <td>Adobe Acrobat Reader 8.2.2</td>\n",
       "      <td>Adobe Acrobat 9.5.0 - CPSID_83708</td>\n",
       "      <td>8.2.2</td>\n",
       "      <td>-</td>\n",
       "      <td>47</td>\n",
       "      <td>54</td>\n",
       "      <td>100</td>\n",
       "      <td>53</td>\n",
       "      <td>53</td>\n",
       "      <td>0</td>\n",
       "      <td>0</td>\n",
       "      <td>cpe:/a:adobe:acrobat_reader:8.2.2</td>\n",
       "      <td>26</td>\n",
       "      <td>33</td>\n",
       "      <td>0</td>\n",
       "    </tr>\n",
       "    <tr>\n",
       "      <th>17726</th>\n",
       "      <td>18320</td>\n",
       "      <td>google</td>\n",
       "      <td>chrome</td>\n",
       "      <td>Google Chrome 30.0.1599.30</td>\n",
       "      <td>谷歌拼音输入法 3.0</td>\n",
       "      <td>30.0.1599.30</td>\n",
       "      <td>-</td>\n",
       "      <td>25</td>\n",
       "      <td>36</td>\n",
       "      <td>100</td>\n",
       "      <td>27</td>\n",
       "      <td>85</td>\n",
       "      <td>0</td>\n",
       "      <td>0</td>\n",
       "      <td>cpe:/a:google:chrome:30.0.1599.30</td>\n",
       "      <td>26</td>\n",
       "      <td>11</td>\n",
       "      <td>0</td>\n",
       "    </tr>\n",
       "    <tr>\n",
       "      <th>11155</th>\n",
       "      <td>11677</td>\n",
       "      <td>adobe</td>\n",
       "      <td>flash_player</td>\n",
       "      <td>Adobe Flash Player 8.0.34.0</td>\n",
       "      <td>Neolane v6.0 6.1.0 Build 8113</td>\n",
       "      <td>8.0.34.0</td>\n",
       "      <td>-</td>\n",
       "      <td>35</td>\n",
       "      <td>39</td>\n",
       "      <td>100</td>\n",
       "      <td>48</td>\n",
       "      <td>45</td>\n",
       "      <td>0</td>\n",
       "      <td>0</td>\n",
       "      <td>cpe:/a:adobe:flash_player:8.0.34.0</td>\n",
       "      <td>27</td>\n",
       "      <td>29</td>\n",
       "      <td>0</td>\n",
       "    </tr>\n",
       "  </tbody>\n",
       "</table>\n",
       "</div>"
      ],
      "text/plain": [
       "       Unnamed: 0 vendor_X      software_X                      title_X  \\\n",
       "16816       17410   google          chrome  Google Chrome 18.0.1025.136   \n",
       "178           178    adobe         acrobat            Adobe Acrobat 3.1   \n",
       "3286         3547    adobe  acrobat_reader   Adobe Acrobat Reader 8.2.2   \n",
       "17726       18320   google          chrome   Google Chrome 30.0.1599.30   \n",
       "11155       11677    adobe    flash_player  Adobe Flash Player 8.0.34.0   \n",
       "\n",
       "                            DisplayName0      release_X Version0  fz_ratio  \\\n",
       "16816                        谷歌拼音输入法 3.0  18.0.1025.136        -        18   \n",
       "178    Adobe Acrobat 8.3.1 - CPSID_83708            3.1        -        62   \n",
       "3286   Adobe Acrobat 9.5.0 - CPSID_83708          8.2.2        -        47   \n",
       "17726                        谷歌拼音输入法 3.0   30.0.1599.30        -        25   \n",
       "11155      Neolane v6.0 6.1.0 Build 8113       8.0.34.0        -        35   \n",
       "\n",
       "       fz_ptl_ratio  fz_tok_set_ratio  fz_ptl_tok_sort_ratio  fz_uwratio  \\\n",
       "16816            27               100                     26          85   \n",
       "178              84               100                     61          85   \n",
       "3286             54               100                     53          53   \n",
       "17726            36               100                     27          85   \n",
       "11155            39               100                     48          45   \n",
       "\n",
       "       fz_rel_ratio  fz_rel_ptl_ratio                          t_cve_name  \\\n",
       "16816             0                 0  cpe:/a:google:chrome:18.0.1025.136   \n",
       "178               0                 0            cpe:/a:adobe:acrobat:3.1   \n",
       "3286              0                 0   cpe:/a:adobe:acrobat_reader:8.2.2   \n",
       "17726             0                 0   cpe:/a:google:chrome:30.0.1599.30   \n",
       "11155             0                 0  cpe:/a:adobe:flash_player:8.0.34.0   \n",
       "\n",
       "       titlX_len  DsplyNm0_len  match  \n",
       "16816         27            11      0  \n",
       "178           17            33      0  \n",
       "3286          26            33      0  \n",
       "17726         26            11      0  \n",
       "11155         27            29      0  "
      ]
     },
     "execution_count": 2,
     "metadata": {},
     "output_type": "execute_result"
    }
   ],
   "source": [
    "# Print out some sample values\n",
    "\n",
    "df_label_software.sample(5)"
   ]
  },
  {
   "cell_type": "code",
   "execution_count": 3,
   "metadata": {},
   "outputs": [
    {
     "data": {
      "text/plain": [
       "False"
      ]
     },
     "execution_count": 3,
     "metadata": {},
     "output_type": "execute_result"
    }
   ],
   "source": [
    "# Check that all rows are labelled\n",
    "\n",
    "# (Should return \"False\")\n",
    "\n",
    "df_label_software['match'].isnull().any()"
   ]
  },
  {
   "cell_type": "code",
   "execution_count": 4,
   "metadata": {},
   "outputs": [
    {
     "name": "stdout",
     "output_type": "stream",
     "text": [
      "((22262, 9), (22262,))\n"
     ]
    }
   ],
   "source": [
    "# Format training data as \"X\" == \"features, \"y\" == target.\n",
    "# The target value is the 1st column.\n",
    "df_match_train1 = df_label_software[['match', 'fz_ratio', 'fz_ptl_ratio', 'fz_tok_set_ratio',\n",
    "        'fz_ptl_tok_sort_ratio', 'fz_uwratio', 'fz_rel_ratio',\n",
    "        'fz_rel_ptl_ratio', 'titlX_len', 'DsplyNm0_len']]\n",
    "\n",
    "# Convert into 2 numpy arrays for the scikit-learn ML classification algorithms.\n",
    "np_match_train1 = np.asarray(df_match_train1)\n",
    "X, y = np_match_train1[:, 1:], np_match_train1[:, 0]\n",
    "\n",
    "print(X.shape, y.shape)"
   ]
  },
  {
   "cell_type": "markdown",
   "metadata": {},
   "source": [
    "## Use a grid search to tune the ML algorithm\n",
    "\n",
    "As before, the classification algorithm needs to be tuned for optimal performance with the data.\n",
    "\n",
    "This is done using a randomized grid search.\n",
    "This code was modified from the [scikit-learn sample code](http://scikit-learn.org/stable/auto_examples/model_selection/randomized_search.html#sphx-glr-auto-examples-model-selection-randomized-search-py)."
   ]
  },
  {
   "cell_type": "code",
   "execution_count": 5,
   "metadata": {},
   "outputs": [
    {
     "name": "stdout",
     "output_type": "stream",
     "text": [
      "RandomizedSearchCV took 73.01 seconds for 40 candidates parameter settings.\n",
      "Model with rank: 1\n",
      "Mean validation score: 0.976 (std: 0.007)\n",
      "Parameters: {'bootstrap': False, 'min_samples_leaf': 1, 'n_estimators': 50, 'min_samples_split': 5, 'criterion': 'gini', 'max_features': 4, 'max_depth': 3, 'class_weight': None}\n",
      "\n",
      "Model with rank: 2\n",
      "Mean validation score: 0.976 (std: 0.009)\n",
      "Parameters: {'bootstrap': False, 'min_samples_leaf': 3, 'n_estimators': 56, 'min_samples_split': 4, 'criterion': 'entropy', 'max_features': 2, 'max_depth': None, 'class_weight': None}\n",
      "\n",
      "Model with rank: 3\n",
      "Mean validation score: 0.976 (std: 0.008)\n",
      "Parameters: {'bootstrap': True, 'min_samples_leaf': 5, 'n_estimators': 92, 'min_samples_split': 6, 'criterion': 'gini', 'max_features': 2, 'max_depth': None, 'class_weight': None}\n",
      "\n"
     ]
    }
   ],
   "source": [
    "#\tNow find optimum parameters for model using Grid Search\n",
    "\n",
    "from time import time\n",
    "from scipy.stats import randint as sp_randint\n",
    "\n",
    "from sklearn.model_selection import RandomizedSearchCV\n",
    "from sklearn.ensemble import RandomForestClassifier\n",
    "\n",
    "# build a classifier\n",
    "clf = RandomForestClassifier()\n",
    "\n",
    "# Utility function to report best scores\n",
    "def report(results, n_top=3):\n",
    "    for i in range(1, n_top + 1):\n",
    "        candidates = np.flatnonzero(results['rank_test_score'] == i)\n",
    "        for candidate in candidates:\n",
    "            print(\"Model with rank: {0}\".format(i))\n",
    "            print(\"Mean validation score: {0:.3f} (std: {1:.3f})\".format(\n",
    "                  results['mean_test_score'][candidate],\n",
    "                  results['std_test_score'][candidate]))\n",
    "            print(\"Parameters: {0}\".format(results['params'][candidate]))\n",
    "            print(\"\")\n",
    "            \n",
    "\n",
    "# specify parameters and distributions to sample from\n",
    "param_dist = {\"n_estimators\": sp_randint(20, 100),\n",
    "              \"max_depth\": [3, None],\n",
    "              \"max_features\": sp_randint(1,7),\n",
    "              \"min_samples_split\": sp_randint(2,7),\n",
    "              \"min_samples_leaf\": sp_randint(1, 7),\n",
    "              \"bootstrap\": [True, False],\n",
    "              \"class_weight\": ['auto', None],\n",
    "              \"criterion\": [\"gini\", \"entropy\"]}\n",
    "\n",
    "# run randomized search\n",
    "n_iter_search = 40\n",
    "random_search = RandomizedSearchCV(clf, param_distributions=param_dist,\n",
    "                                   n_iter=n_iter_search)\n",
    "\n",
    "start = time()\n",
    "random_search.fit(X, y)\n",
    "print(\"RandomizedSearchCV took %.2f seconds for %d candidates\"\n",
    "      \" parameter settings.\" % ((time() - start), n_iter_search))\n",
    "report(random_search.cv_results_)"
   ]
  },
  {
   "cell_type": "markdown",
   "metadata": {},
   "source": [
    "\n",
    "## Run the ML classifier with optimum parameters on the test data\n",
    "\n",
    "Based on the above, and ignoring default values, the optimum set of parameters would be something like the following:\n",
    "\n",
    "    'bootstrap':True, 'min_samples_leaf': 3, 'n_estimators': 55, 'min_samples_split': 5, 'criterion':'gini', 'max_features': 4, 'max_depth: 3, 'class_weight': None\n",
    "\n",
    "The RandomForest classifier is now trained on the test data to produce the model."
   ]
  },
  {
   "cell_type": "code",
   "execution_count": 9,
   "metadata": {},
   "outputs": [
    {
     "data": {
      "text/plain": [
       "['/home/jovyan/work/shared/data/models/software_classif_trained_Rdm_Forest.pkl.z']"
      ]
     },
     "execution_count": 9,
     "metadata": {},
     "output_type": "execute_result"
    }
   ],
   "source": [
    "clf = RandomForestClassifier(\n",
    "    bootstrap=True,\n",
    "    min_samples_leaf=3,\n",
    "    n_estimators=55,\n",
    "    min_samples_split=5,\n",
    "    criterion='gini',\n",
    "    max_features=4,b\n",
    "    max_depth=3,\n",
    "    class_weight=None\n",
    ")\n",
    "b\n",
    "# Train model on original training data\n",
    "clf.fit(X, y)\n",
    "\n",
    "# save model for future use\n",
    "\n",
    "from sklearn.externals import joblib\n",
    "joblib.dump(clf, '/home/jovyan/work/shared/data/models/software_classif_trained_Rdm_Forest.pkl.z') "
   ]
  },
  {
   "cell_type": "code",
   "execution_count": 10,
   "metadata": {
    "collapsed": true
   },
   "outputs": [],
   "source": [
    "# Test loading\n",
    "\n",
    "clf = joblib.load('/home/jovyan/work/shared/data/models/software_classif_trained_Rdm_Forest.pkl.z')"
   ]
  }
 ],
 "metadata": {
  "kernelspec": {
   "display_name": "Python 2",
   "language": "python",
   "name": "python2"
  },
  "language_info": {
   "codemirror_mode": {
    "name": "ipython",
    "version": 2
   },
   "file_extension": ".py",
   "mimetype": "text/x-python",
   "name": "python",
   "nbconvert_exporter": "python",
   "pygments_lexer": "ipython2",
   "version": "2.7.13"
  }
 },
 "nbformat": 4,
 "nbformat_minor": 2
}
